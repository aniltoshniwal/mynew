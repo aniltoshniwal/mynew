{
 "cells": [
  {
   "cell_type": "code",
   "execution_count": 1,
   "metadata": {},
   "outputs": [],
   "source": [
    "import pymongo\n",
    "import pandas as pd\n",
    "import numpy as np\n"
   ]
  },
  {
   "cell_type": "code",
   "execution_count": null,
   "metadata": {},
   "outputs": [],
   "source": []
  },
  {
   "cell_type": "code",
   "execution_count": 2,
   "metadata": {},
   "outputs": [],
   "source": [
    "myclient = pymongo.MongoClient(\"mongodb://localhost:27017/\")\n",
    "mydb = myclient[\"mydatabase\"]\n",
    "mycol=mydb['output_data']"
   ]
  },
  {
   "cell_type": "code",
   "execution_count": 118,
   "metadata": {},
   "outputs": [],
   "source": [
    "advisors =[\n",
    "            {\n",
    "                \"id\": 1,\n",
    "                \"Name\": \"Mukesh Bhardwaj\",\n",
    "                \"Gender\": \"Male\",\n",
    "                \"city\": \"Rampur\",\n",
    "                \"Experience\": \"7\",\n",
    "                \"state\": \"Uttar Pradesh\",\n",
    "                \"pin\":\"244901\",\n",
    "                \"specialization\":[\"ETFS\"]\n",
    "\n",
    "            },\n",
    "            {\n",
    "                \"id\": 2,\n",
    "                \"Name\": \"Aniska Sexsena\",\n",
    "                \"Gender\": \"Female\",\n",
    "                \"city\": \"Haridwar\",\n",
    "                \"Experience\": \"8\",\n",
    "                \"state\": \"Uttarakhand\",\n",
    "                \"pin\":\"24400901\",\n",
    "                \"specialization\":[\"Bonds\"]\n",
    "            },\n",
    "            {\n",
    "                \"id\": 3,\n",
    "                \"Name\": \"Dharmendra Singh\",\n",
    "                \"Gender\": \"Male\",\n",
    "                \"city\": \"Rampur\",\n",
    "                \"Experience\": \"5\",\n",
    "                \"state\": \"Uttar Pradesh\",\n",
    "                \"pin\":\"244924\",\n",
    "                \"specialization\":[\"Mutual Fund\", \"Equity\"]\n",
    "\n",
    "            },\n",
    "            {\n",
    "                \"id\": 4,\n",
    "                \"Name\": \"Rahul Singh\",\n",
    "                \"Gender\": \"Male\",\n",
    "                \"city\": \"Moradabad\",\n",
    "                \"Experience\": \"5\",\n",
    "                \"state\": \"Uttar Pradesh\",\n",
    "                \"pin\":\"244001\",\n",
    "                \"specialization\":[\"Equity\", \"ETFS\"]\n",
    "            },\n",
    "\n",
    "        ]"
   ]
  },
  {
   "cell_type": "code",
   "execution_count": 232,
   "metadata": {},
   "outputs": [],
   "source": [
    "advisor = mycol.find({'state':state,'city':city,'pin':pin,},{'_id':0})"
   ]
  },
  {
   "cell_type": "code",
   "execution_count": 370,
   "metadata": {},
   "outputs": [
    {
     "name": "stdout",
     "output_type": "stream",
     "text": [
      "\\n        <a href=\"/marketplace\" class=\"no-underline Bump-link\" data-ga-click=\"Marketplace, click, text:Browse GitHub Marketplace\">\\n          Browse GitHub Marketplace <span class=\"Bump-link-symbol\">&rarr;</span>\\n        </a>\\n      \n"
     ]
    }
   ],
   "source": [
    "import urllib.request \n",
    "import urllib.parse \n",
    "import re \n",
    "   \n",
    "url = 'https://www.github.com/'\n",
    "values = {'s':'youtube', \n",
    "          'submit':'search'} \n",
    "   \n",
    "data = urllib.parse.urlencode(values) \n",
    "data = data.encode('utf-8') \n",
    "req = urllib.request.Request(url, data) \n",
    "resp = urllib.request.urlopen(req) \n",
    "respData = resp.read() \n",
    "   \n",
    "paragraphs = re.findall(r'<p>(.*?)</p>',str(respData)) \n",
    "   \n",
    "for eachP in paragraphs: \n",
    "    print(eachP) "
   ]
  },
  {
   "cell_type": "code",
   "execution_count": 1,
   "metadata": {},
   "outputs": [],
   "source": [
    "import pymongo\n",
    "myclient = pymongo.MongoClient(\"mongodb://localhost:27017/\")\n",
    "mydb = myclient[\"advisors\"]\n",
    "mycol=mydb['advisor']\n",
    "def mongo_client(data):\n",
    "    myclient = pymongo.Mong\n",
    "    oClient(\"mongodb://localhost:27017/\")\n",
    "    mydb = myclient[\"advisors\"]\n",
    "    mycol=mydb['advisor']\n",
    "    x=mycol.insert_many(data)\n",
    "    return f\"{len(x.inserted_ids)} items inserted successfully\", mycol"
   ]
  },
  {
   "cell_type": "code",
   "execution_count": 2,
   "metadata": {},
   "outputs": [],
   "source": [
    "advisors =[\n",
    "            {\n",
    "                \"id\": 1,\n",
    "                \"Name\": \"Mukesh Bhardwaj\",\n",
    "                \"Gender\": \"Male\",\n",
    "                \"city\": \"Rampur\",\n",
    "                \"Experience\": \"7\",\n",
    "                \"state\": \"Uttar Pradesh\",\n",
    "                \"pin\":\"244901\",\n",
    "                \"specialization\":[\"ETFS\"]\n",
    "\n",
    "            },\n",
    "            {\n",
    "                \"id\": 2,\n",
    "                \"Name\": \"Aniska Sexsena\",\n",
    "                \"Gender\": \"Female\",\n",
    "                \"city\": \"Haridwar\",\n",
    "                \"Experience\": \"8\",\n",
    "                \"state\": \"Uttarakhand\",\n",
    "                \"pin\":\"24400901\",\n",
    "                \"specialization\":[\"Bonds\"]\n",
    "            },\n",
    "            {\n",
    "                \"id\": 3,\n",
    "                \"Name\": \"Dharmendra Singh\",\n",
    "                \"Gender\": \"Male\",\n",
    "                \"city\": \"Rampur\",\n",
    "                \"Experience\": \"5\",\n",
    "                \"state\": \"Uttar Pradesh\",\n",
    "                \"pin\":\"244924\",\n",
    "                \"specialization\":[\"Mutual Fund\", \"Equity\"]\n",
    "\n",
    "            },\n",
    "            {\n",
    "                \"id\": 4,\n",
    "                \"Name\": \"Rahul Singh\",\n",
    "                \"Gender\": \"Male\",\n",
    "                \"city\": \"Moradabad\",\n",
    "                \"Experience\": \"5\",\n",
    "                \"state\": \"Uttar Pradesh\",\n",
    "                \"pin\":\"244001\",\n",
    "                \"specialization\":[\"Equity\", \"ETFS\"]\n",
    "            },\n",
    "\n",
    "        ]"
   ]
  },
  {
   "cell_type": "code",
   "execution_count": 5,
   "metadata": {},
   "outputs": [],
   "source": [
    "x=mycol.find({'id':1},{'_id':0})"
   ]
  },
  {
   "cell_type": "code",
   "execution_count": 6,
   "metadata": {},
   "outputs": [
    {
     "name": "stdout",
     "output_type": "stream",
     "text": [
      "{'id': 1, 'Name': 'Mukesh Bhardwaj', 'Gender': 'Male', 'city': 'Rampur', 'Experience': '7', 'state': 'Uttar Pradesh', 'pin': '244901', 'specialization': ['ETFS']}\n",
      "{'id': 1, 'Name': 'Mukesh Bhardwaj', 'Gender': 'Male', 'city': 'Rampur', 'Experience': '7', 'state': 'Uttar Pradesh', 'pin': '244901', 'specialization': ['ETFS']}\n",
      "{'id': 1, 'Name': 'Mukesh Bhardwaj', 'Gender': 'Male', 'city': 'Rampur', 'Experience': '7', 'state': 'Uttar Pradesh', 'pin': '244901', 'specialization': ['ETFS']}\n",
      "{'id': 1, 'Name': 'Mukesh Bhardwaj', 'Gender': 'Male', 'city': 'Rampur', 'Experience': '7', 'state': 'Uttar Pradesh', 'pin': '244901', 'specialization': ['ETFS']}\n",
      "{'id': 1, 'Name': 'Mukesh Bhardwaj', 'Gender': 'Male', 'city': 'Rampur', 'Experience': '7', 'state': 'Uttar Pradesh', 'pin': '244901', 'specialization': ['ETFS']}\n",
      "{'id': 1, 'Name': 'Mukesh Bhardwaj', 'Gender': 'Male', 'city': 'Rampur', 'Experience': '7', 'state': 'Uttar Pradesh', 'pin': '244901', 'specialization': ['ETFS']}\n",
      "{'id': 1, 'Name': 'Mukesh Bhardwaj', 'Gender': 'Male', 'city': 'Rampur', 'Experience': '7', 'state': 'Uttar Pradesh', 'pin': '244901', 'specialization': ['ETFS']}\n"
     ]
    }
   ],
   "source": [
    "for i in x:\n",
    "    print(i)"
   ]
  },
  {
   "cell_type": "code",
   "execution_count": null,
   "metadata": {},
   "outputs": [],
   "source": []
  }
 ],
 "metadata": {
  "kernelspec": {
   "display_name": "Python 3",
   "language": "python",
   "name": "python3"
  },
  "language_info": {
   "codemirror_mode": {
    "name": "ipython",
    "version": 3
   },
   "file_extension": ".py",
   "mimetype": "text/x-python",
   "name": "python",
   "nbconvert_exporter": "python",
   "pygments_lexer": "ipython3",
   "version": "3.6.8"
  }
 },
 "nbformat": 4,
 "nbformat_minor": 2
}
