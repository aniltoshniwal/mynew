{
 "cells": [
  {
   "cell_type": "code",
   "execution_count": null,
   "metadata": {},
   "outputs": [],
   "source": [
    "import cv2 \n",
    "import os \n",
    "  \n",
    "# Read the video from specified path \n",
    "#cam = cv2.VideoCapture('/home/am/Downloads/download/new.mp4') \n",
    "cam = cv2.VideoCapture(0) \n",
    "  \n",
    "try: \n",
    "      \n",
    "    # creating a folder named data \n",
    "    if not os.path.exists('data'): \n",
    "        os.makedirs('data') \n",
    "#if not created then raise error \n",
    "except OSError: \n",
    "    print ('Error: Creating directory of data') \n",
    "# frame \n",
    "currentframe = 0\n",
    "  \n",
    "while(True): \n",
    "      \n",
    "    # reading from frame \n",
    "    ret,frame = cam.read() \n",
    "    if ret: \n",
    "        # if video is still left continue creating images \n",
    "        name = './data/frame' + str(currentframe) + '.jpg'\n",
    "        print ('Creating...' + name) \n",
    "        cv2.imshow('my webcam', frame)\n",
    "  \n",
    "        # writing the extracted images \n",
    "        #cv2.imwrite(name, frame) \n",
    "  \n",
    "        # increasing counter so that it will \n",
    "        # show how many frames are created \n",
    "    if cv2.waitKey(1) == 27: \n",
    "        break  # esc to quit\n",
    "cv2.destroyAllWindows()\n",
    "\n",
    "# Release all space and windows once done \n",
    "cam.release() \n",
    "cv2.destroyAllWindows() "
   ]
  },
  {
   "cell_type": "code",
   "execution_count": null,
   "metadata": {},
   "outputs": [],
   "source": [
    "import cv2\n",
    "\n",
    "cap = cv2.VideoCapture('/home/am/Downloads/download/new.mp4')\n",
    "#length = int(cap.get(cv2.CAP_PROP_FRAME_COUNT))\n",
    "width  = int(cap.get(cv2.CAP_PROP_FRAME_WIDTH))\n",
    "height = int(cap.get(cv2.CAP_PROP_FRAME_HEIGHT))\n",
    "fps    = cap.get(cv2.CAP_PROP_FPS)\n",
    "\n",
    "property_id = int(cv2.CAP_PROP_FRAME_COUNT) \n",
    "length = int(cv2.VideoCapture.get(cap, property_id))\n",
    "print( length )\n",
    "print( width )\n",
    "print( height )\n",
    "print(fps)"
   ]
  },
  {
   "cell_type": "code",
   "execution_count": null,
   "metadata": {},
   "outputs": [],
   "source": [
    "import time\n",
    "import pandas as pd\n",
    "import cv2\n",
    "cap = cv2.VideoCapture('/home/am/Downloads/download/new.mp4')\n",
    "time.sleep(2)\n",
    "templates = {}\n",
    "w=[]\n",
    "h=[]\n",
    "for i in range(0,11):\n",
    "    templates[\"template_\"+str(i)]=cv2.imread(str(i)+'.bmp',0)\n",
    "    tmp_w,tmp_h=templates[\"template_\"+str(i)].shape[::-1]\n",
    "    w.append(tmp_w)\n",
    "    h.append(tmp_h)\n",
    "\n",
    "\n",
    "\n",
    "threshold = 0.70\n",
    "\n",
    "\n",
    "\n",
    "while(True):\n",
    "    les_points=[[],[],[],[],[],[],[],[],[],[],[]]\n",
    "    ret, frame = cap.read()\n",
    "    if frame==None:\n",
    "        break\n",
    "    crop_image=frame[38:70,11:364]\n",
    "    gray=cv2.cvtColor(crop_image,cv2.COLOR_BGR2GRAY)\n",
    "    for i in range(0,11):\n",
    "        res= cv2.matchTemplate(gray,templates[\"template_\"+str(i)],cv2.TM_CCOEFF_NORMED)\n",
    "        loc = np.where( res >= threshold)\n",
    "        for pt in zip(*loc[::-1]):\n",
    "            les_points[i].append(pt[0])\n",
    "            cv2.rectangle(crop_image, pt, (pt[0] + w[i], pt[1] + h[i]), (0,i*10,255), 2)\n",
    "    print (les_points)\n",
    "    cv2.imshow('normal',crop_image)\n",
    "    if cv2.waitKey(1)& 0xFF == ord('p'):\n",
    "        threshold=threshold+0.01\n",
    "        print (threshold)\n",
    "    if cv2.waitKey(1)& 0xFF == ord('m'):\n",
    "        threshold=threshold-0.01\n",
    "        print (threshold)\n",
    "    if cv2.waitKey(1) & 0xFF == ord('q'):\n",
    "        break"
   ]
  },
  {
   "cell_type": "code",
   "execution_count": null,
   "metadata": {},
   "outputs": [],
   "source": [
    "print(templates[\"template_\"+str(i)])"
   ]
  },
  {
   "cell_type": "code",
   "execution_count": 26,
   "metadata": {},
   "outputs": [
    {
     "name": "stdout",
     "output_type": "stream",
     "text": [
      "--- Start recognize text from image ---\n",
      "[['Bill Taylor\\n\\nAre we now Saying that security\\nassistance and WH meeting are\\nconditioned on investigations?\\n\\n \\n\\nGordon Sondland\\nCall me.']]\n",
      "------ Done -------\n"
     ]
    }
   ],
   "source": [
    "\"\"\"\n",
    "install tesseract in system\n",
    "sudo apt update\n",
    "sudo apt install tesseract-ocr\n",
    "sudo apt install libtesseract-dev\n",
    "\"\"\"\n",
    "import cv2\n",
    "import numpy as np\n",
    "import pytesseract\n",
    "from PIL import Image\n",
    "from pytesseract import image_to_string\n",
    "src_path = '/home/am/python/OTP/'\n",
    "def get_string(img_path):\n",
    "    a=[]\n",
    "    for imgage in os.listdir(img_path):\n",
    "        if imgage.endswith('.jpeg') or imgage.endswith('.png'):\n",
    "            img = cv2.imread(imgage)\n",
    "            img = cv2.cvtColor(img, cv2.COLOR_BGR2GRAY)\n",
    "\n",
    "            # Apply dilation and erosion to remove some noise\n",
    "            kernel = np.ones((1, 1), np.uint8)\n",
    "            img = cv2.dilate(img, kernel, iterations=1)\n",
    "            img = cv2.erode(img, kernel, iterations=1)\n",
    "\n",
    "            # Write image after removed noise\n",
    "            cv2.imwrite(src_path + \"removed_noise.png\", img)\n",
    "\n",
    "            #  Apply threshold to get image with only black and white\n",
    "            #img = cv2.adaptiveThreshold(img, 255, cv2.ADAPTIVE_THRESH_GAUSSIAN_C, cv2.THRESH_BINARY, 31, 2)\n",
    "\n",
    "            # Write the image after apply opencv to do some ...\n",
    "            cv2.imwrite(src_path + \"thres.png\", img)\n",
    "\n",
    "            # Recognize text with tesseract for python\n",
    "            result = pytesseract.image_to_string(Image.open(src_path + \"thres.png\"))\n",
    "\n",
    "            # Remove template file\n",
    "            #os.remove(temp)\n",
    "            \n",
    "            a.append([result])\n",
    "            return a\n",
    "        \n",
    "\n",
    "\n",
    "print('--- Start recognize text from image ---')\n",
    "print(get_string(src_path) )\n",
    "\n",
    "print(\"------ Done -------\")"
   ]
  },
  {
   "cell_type": "code",
   "execution_count": null,
   "metadata": {},
   "outputs": [],
   "source": [
    "import cv2\n",
    "img = cv2.imread('test.jpeg')\n",
    "img = cv2.cvtColor(img, cv2.COLOR_BGR2GRAY)\n",
    "cv2.imshow('show',img)\n",
    "cv2.waitKey()"
   ]
  },
  {
   "cell_type": "code",
   "execution_count": 6,
   "metadata": {},
   "outputs": [],
   "source": [
    "result = pytesseract.image_to_string(Image.open('test.jpeg'))"
   ]
  },
  {
   "cell_type": "code",
   "execution_count": 24,
   "metadata": {},
   "outputs": [
    {
     "name": "stdout",
     "output_type": "stream",
     "text": [
      "Bill Taylor\n",
      "\n",
      "Are we now Saying that security\n",
      "assistance and WH meeting are\n",
      "conditioned on investigations?\n",
      "\n",
      " \n",
      "\n",
      "Gordon Sondland\n",
      "Call me.\n"
     ]
    }
   ],
   "source": [
    "print('Bill Taylor\\n\\nAre we now Saying that security\\nassistance and WH meeting are\\nconditioned on investigations?\\n\\n \\n\\nGordon Sondland\\nCall me.')"
   ]
  },
  {
   "cell_type": "code",
   "execution_count": 67,
   "metadata": {},
   "outputs": [
    {
     "name": "stdout",
     "output_type": "stream",
     "text": [
      "Bill Taylor\n",
      "\n",
      "Are we now Saying that security\n",
      "assistance and WH meeting are\n",
      "conditioned on investigations?\n",
      "\n",
      " \n",
      "\n",
      "Gordon Sondland\n",
      "Call me.\n",
      "Left Align\n",
      "\n",
      "Center Align\n",
      "This line will show right align\n",
      "\n",
      "assy sample = You can align Tertin a document horizontally\n",
      "and vertical. In horizontal alignment you can agsn align text\n",
      "to riht, let, center and jus. This paragraph show how to\n",
      "lien justiy wil play\n",
      "Its Emma. | tried to call you but\n",
      "signal bad. | been taken to\n",
      "hospital after having a fall this\n",
      "morning. If possible can you do\n",
      "me a quick favour and text me x\n"
     ]
    }
   ],
   "source": [
    "import os\n",
    "\n",
    "a=[]\n",
    "for imgage in os.listdir(src_path):\n",
    "    if imgage.endswith('.jpeg') or imgage.endswith('.png'):\n",
    "        img = cv2.imread(imgage)\n",
    "        img = cv2.cvtColor(img, cv2.COLOR_BGR2GRAY)\n",
    "\n",
    "        # Apply dilation and erosion to remove some noise\n",
    "        kernel = np.ones((1, 1), np.uint8)\n",
    "        img = cv2.dilate(img, kernel, iterations=1)\n",
    "        img = cv2.erode(img, kernel, iterations=1)\n",
    "\n",
    "        # Write image after removed noise\n",
    "        cv2.imwrite(src_path + \"removed_noise.png\", img)\n",
    "\n",
    "        #  Apply threshold to get image with only black and white\n",
    "        #img = cv2.adaptiveThreshold(img, 255, cv2.ADAPTIVE_THRESH_GAUSSIAN_C, cv2.THRESH_BINARY, 31, 2)\n",
    "\n",
    "        # Write the image after apply opencv to do some ...\n",
    "        cv2.imwrite(src_path + \"thres.png\", img)\n",
    "\n",
    "        # Recognize text with tesseract for python\n",
    "        result = pytesseract.image_to_string(Image.open(src_path + \"thres.png\"))\n",
    "\n",
    "        # Remove template file\n",
    "        #os.remove(temp)\n",
    "\n",
    "        a.append([result])\n",
    "b=[]\n",
    "[b.append(i) for i in a if i not in b]\n",
    "for i in range(len(b)):\n",
    "    print(b[i][0])"
   ]
  },
  {
   "cell_type": "code",
   "execution_count": 66,
   "metadata": {},
   "outputs": [
    {
     "data": {
      "text/plain": [
       "[]"
      ]
     },
     "execution_count": 66,
     "metadata": {},
     "output_type": "execute_result"
    }
   ],
   "source": []
  },
  {
   "cell_type": "code",
   "execution_count": 62,
   "metadata": {},
   "outputs": [
    {
     "data": {
      "text/plain": [
       "['Bill Taylor\\n\\nAre we now Saying that security\\nassistance and WH meeting are\\nconditioned on investigations?\\n\\n \\n\\nGordon Sondland\\nCall me.']"
      ]
     },
     "execution_count": 62,
     "metadata": {},
     "output_type": "execute_result"
    }
   ],
   "source": []
  },
  {
   "cell_type": "code",
   "execution_count": 63,
   "metadata": {},
   "outputs": [
    {
     "data": {
      "text/plain": [
       "['Bill Taylor\\n\\nAre we now saying that security\\nassistance and WH meeting are\\nconditioned on investigations?\\n\\nGordon Sondland\\nCall me.']"
      ]
     },
     "execution_count": 63,
     "metadata": {},
     "output_type": "execute_result"
    }
   ],
   "source": [
    "\n"
   ]
  },
  {
   "cell_type": "code",
   "execution_count": null,
   "metadata": {},
   "outputs": [],
   "source": []
  }
 ],
 "metadata": {
  "kernelspec": {
   "display_name": "Python 3",
   "language": "python",
   "name": "python3"
  },
  "language_info": {
   "codemirror_mode": {
    "name": "ipython",
    "version": 3
   },
   "file_extension": ".py",
   "mimetype": "text/x-python",
   "name": "python",
   "nbconvert_exporter": "python",
   "pygments_lexer": "ipython3",
   "version": "3.6.8"
  }
 },
 "nbformat": 4,
 "nbformat_minor": 2
}
