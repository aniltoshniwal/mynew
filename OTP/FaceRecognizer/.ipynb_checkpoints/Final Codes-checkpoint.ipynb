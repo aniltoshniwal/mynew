{
 "cells": [
  {
   "cell_type": "markdown",
   "metadata": {},
   "source": [
    "# Capture Image"
   ]
  },
  {
   "cell_type": "code",
   "execution_count": 2,
   "metadata": {},
   "outputs": [
    {
     "name": "stdout",
     "output_type": "stream",
     "text": [
      "Enter NameDharmendra Singh\n",
      "Enter User ID1\n"
     ]
    }
   ],
   "source": [
    "import os\n",
    "import cv2\n",
    "import json\n",
    "from PIL import Image\n",
    "details={}\n",
    "j=1\n",
    "name=input('Enter Name')\n",
    "Id=input('Enter User ID')\n",
    "face_cascade = cv2.CascadeClassifier('haarcascade_frontalface_default.xml')\n",
    "cam = cv2.VideoCapture(0)\n",
    "while True:\n",
    "    ret, frame = cam.read()\n",
    "    if ret:\n",
    "        img = cv2.cvtColor(frame, cv2.COLOR_BGR2GRAY)\n",
    "        \n",
    "        faces = face_cascade.detectMultiScale(img, 1.3, 5)\n",
    "        if len(faces)>=1:\n",
    "            for (x,y,w,h) in faces:\n",
    "                img = cv2.rectangle(img,(x,y),(x+w,y+h),(255,0,0),2)\n",
    "                roi_gray = img[y:y+h, x:x+w]\n",
    "            cv2.imshow('Video', img)\n",
    "            cv2.imwrite('/home/am/python/OTP/FaceRecognizer/frames/'+name+'.'+str(Id)+'.'+str(j)+'.jpg',roi_gray)\n",
    "            if j==50:\n",
    "                if os.path.isfile('details.json')==True:\n",
    "                    detail=json.loads(open('details.json').read())\n",
    "                    detail[str(Id)]=name\n",
    "                    if Id not in detail:\n",
    "                        with open('details.json' ,'w') as jsonfile:\n",
    "                                    json.dump(detail, jsonfile)\n",
    "                else:\n",
    "                    details[str(Id)]=name\n",
    "                    with open('details.json' ,'w') as jsonfile:\n",
    "                            json.dump(details, jsonfile)\n",
    "                break\n",
    "            j+=1\n",
    "            if cv2.waitKey(1) == 27:\n",
    "                if os.path.isfile('details.json')==True:\n",
    "                    detail=json.loads(open('details.json').read())\n",
    "                    detail[str(Id)]=name\n",
    "                    if Id not in detail:\n",
    "                        with open('details.json' ,'w') as jsonfile:\n",
    "                                    json.dump(detail, jsonfile)\n",
    "                else:\n",
    "                    details[str(Id)]=name\n",
    "                    with open('details.json' ,'w') as jsonfile:\n",
    "                            json.dump(details, jsonfile)\n",
    "                break  # esc to \n",
    "    else:\n",
    "        break\n",
    "cam.release()\n",
    "cv2.destroyAllWindows()\n"
   ]
  },
  {
   "cell_type": "markdown",
   "metadata": {},
   "source": [
    "# Train Image"
   ]
  },
  {
   "cell_type": "code",
   "execution_count": 3,
   "metadata": {},
   "outputs": [],
   "source": [
    "import os\n",
    "import cv2\n",
    "import json\n",
    "import numpy as np\n",
    "from PIL import Image\n",
    "path='/home/am/python/OTP/FaceRecognizer/frames'\n",
    "\n",
    "imagePaths=[os.path.join(path,f) for f in os.listdir(path)] \n",
    "\n",
    "faces=[]\n",
    "#create empty ID list\n",
    "Ids=[]\n",
    "for imagePath in imagePaths:\n",
    "    #loading the image and converting it to gray scale\n",
    "    pilImage=Image.open(imagePath).convert('L')\n",
    "    #Now we are converting the PIL image into numpy array\n",
    "    imageNp=np.array(pilImage,'uint8')\n",
    "    #getting the Id from the image\n",
    "    Id=int(os.path.split(imagePath)[-1].split(\".\")[1])\n",
    "    # extract the face from the training image sample\n",
    "    faces.append(imageNp)\n",
    "    Ids.append(Id)\n",
    "#recognizer = cv2.face_LBPHFaceRecognizer.create()\n",
    "recognizer = cv2.face.LBPHFaceRecognizer_create()\n",
    "#recognizer = cv2.createLBPHFaceRecognizer()\n",
    "harcascadePath = \"haarcascade_frontalface_default.xml\"\n",
    "detector =cv2.CascadeClassifier(harcascadePath)\n",
    "recognizer.train(faces, np.array(Ids))\n",
    "recognizer.save(\"Trainner.yml\")"
   ]
  },
  {
   "cell_type": "markdown",
   "metadata": {},
   "source": [
    "# Track Image"
   ]
  },
  {
   "cell_type": "code",
   "execution_count": 6,
   "metadata": {},
   "outputs": [],
   "source": [
    "details=json.loads(open('details.json').read())\n",
    "recognizer = cv2.face.LBPHFaceRecognizer_create()#cv2.createLBPHFaceRecognizer()\n",
    "recognizer.read(\"Trainner.yml\")\n",
    "harcascadePath = \"haarcascade_frontalface_default.xml\"\n",
    "faceCascade = cv2.CascadeClassifier(harcascadePath);    \n",
    "cam = cv2.cv2.VideoCapture(0)\n",
    "font = cv2.FONT_HERSHEY_SIMPLEX        \n",
    "while True:\n",
    "    ret, im =cam.read()\n",
    "    #im=cv2.flip(im,flipCode=1)\n",
    "    gray=cv2.cvtColor(im,cv2.COLOR_BGR2GRAY)\n",
    "    faces=faceCascade.detectMultiScale(gray, 1.2,5)    \n",
    "    for(x,y,w,h) in faces:\n",
    "        cv2.rectangle(im,(x,y),(x+w,y+h),(225,0,0),2)\n",
    "        Id, conf = recognizer.predict(gray[y:y+h,x:x+w])\n",
    "        if(conf < 50):\n",
    "            details=json.loads(open('details.json').read())\n",
    "            aa=details[str(Id)]\n",
    "        else:\n",
    "            aa='Unknown'\n",
    "        cv2.putText(im,str(aa),(x,y+h), font, 1,(255,255,255),2)\n",
    "    cv2.imshow('im',im)\n",
    "    if cv2.waitKey(1) == 27:\n",
    "            break\n",
    "\n",
    "cam.release()\n",
    "cv2.destroyAllWindows()"
   ]
  },
  {
   "cell_type": "code",
   "execution_count": 5,
   "metadata": {},
   "outputs": [
    {
     "data": {
      "text/plain": [
       "62.03124225045883"
      ]
     },
     "execution_count": 5,
     "metadata": {},
     "output_type": "execute_result"
    }
   ],
   "source": [
    "conf"
   ]
  },
  {
   "cell_type": "code",
   "execution_count": 7,
   "metadata": {},
   "outputs": [
    {
     "data": {
      "text/plain": [
       "1"
      ]
     },
     "execution_count": 7,
     "metadata": {},
     "output_type": "execute_result"
    }
   ],
   "source": [
    "Id"
   ]
  },
  {
   "cell_type": "code",
   "execution_count": null,
   "metadata": {},
   "outputs": [],
   "source": []
  }
 ],
 "metadata": {
  "kernelspec": {
   "display_name": "Python 3",
   "language": "python",
   "name": "python3"
  },
  "language_info": {
   "codemirror_mode": {
    "name": "ipython",
    "version": 3
   },
   "file_extension": ".py",
   "mimetype": "text/x-python",
   "name": "python",
   "nbconvert_exporter": "python",
   "pygments_lexer": "ipython3",
   "version": "3.6.8"
  }
 },
 "nbformat": 4,
 "nbformat_minor": 2
}
