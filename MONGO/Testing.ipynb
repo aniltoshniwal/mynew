{
 "cells": [
  {
   "cell_type": "markdown",
   "metadata": {},
   "source": [
    "# Find System IP and Hostname with the help of socket module "
   ]
  },
  {
   "cell_type": "code",
   "execution_count": null,
   "metadata": {
    "scrolled": true
   },
   "outputs": [],
   "source": [
    "import socket    \n",
    "hostname = socket.gethostname()    \n",
    "IPAddr = socket.gethostbyname(hostname)    \n",
    "print(\"Your Computer Name is:\" + hostname)    \n",
    "print(\"Your Computer IP Address is:\" + IPAddr) "
   ]
  },
  {
   "cell_type": "markdown",
   "metadata": {},
   "source": [
    "# Find Public IP Using geocoder"
   ]
  },
  {
   "cell_type": "code",
   "execution_count": null,
   "metadata": {},
   "outputs": [],
   "source": [
    "import geocoder\n",
    "my_ip = geocoder.ip('me').ip\n",
    "print(my_ip)"
   ]
  },
  {
   "cell_type": "markdown",
   "metadata": {},
   "source": [
    "# Genrate Catpcha code in Image format"
   ]
  },
  {
   "cell_type": "code",
   "execution_count": null,
   "metadata": {},
   "outputs": [],
   "source": [
    "import random\n",
    "from captcha.image import ImageCaptcha\n",
    "from IPython.display import clear_output\n",
    "def main():\n",
    "    alpha = []\n",
    "    ALPHA=[]\n",
    "    num=[]\n",
    "    for i in range(65,91):\n",
    "        ALPHA.append(chr(i))\n",
    "        alpha.append(chr(i).lower())\n",
    "    for i in range(0,10):\n",
    "        num.append(i)\n",
    "    s_alpha = random.choice(alpha)\n",
    "    c_alpha = random.choice(ALPHA)\n",
    "    c_alpha1 = random.choice(ALPHA)\n",
    "    num1 = random.choice(num)\n",
    "    num2 = random.choice(num)\n",
    "    num3 = random.choice(num)\n",
    "    row_captcha = s_alpha+str(num3)+c_alpha+str(num2)+c_alpha1+str(num1)\n",
    "    row_captcha = list(row_captcha)\n",
    "    random.shuffle(row_captcha)\n",
    "    row_captcha = ''.join(row_captcha)\n",
    "    img = ImageCaptcha()\n",
    "    image = img.generate_image(row_captcha)\n",
    "    image.show()\n",
    "    return row_captcha\n",
    "if __name__==\"__main__\":\n",
    "    import os\n",
    "    print(main())\n",
    "    \n",
    "while True:\n",
    "    i=input(\"Press 'R' for Refresh captcha and 'N' for Exit: \").lower()\n",
    "    if i==\"r\" or i==\"R\":\n",
    "        clear_output()\n",
    "        print(main())\n",
    "    else:\n",
    "        clear_output()\n",
    "        print(\"Thank You\")\n",
    "        break\n",
    "        \n"
   ]
  },
  {
   "cell_type": "markdown",
   "metadata": {},
   "source": [
    "# Geo Location using public api key(from https://ipinfodb.com/)"
   ]
  },
  {
   "cell_type": "code",
   "execution_count": null,
   "metadata": {
    "scrolled": true
   },
   "outputs": [],
   "source": [
    "import reverse_geocoder as rg \n",
    "from pprint import pprint \n",
    "import requests\n",
    "import geocoder\n",
    "my_ip = geocoder.ip('me').ip\n",
    "api_key='c2adaf2f33cb3dd92911c57b65f38f49b948cc8393e40a1ad9e5af0f58993248'\n",
    "geo_request = requests.get('http://api.ipinfodb.com/v3/ip-city/?key='+api_key+'&ip='+my_ip).text\n",
    "data=geo_request.split(';')\n",
    "result = rg.search((data[8], data[9])) \n",
    "pprint(result)\n",
    "#print({'ip':data[2],'country':data[4],'state':data[5],'city':data[6],'pin':data[7],'latitude':data[8],\n",
    "       #'longitude':data[9],'timezone':data[10]})\n"
   ]
  },
  {
   "cell_type": "markdown",
   "metadata": {},
   "source": [
    "# Geo Location using public IP"
   ]
  },
  {
   "cell_type": "code",
   "execution_count": null,
   "metadata": {},
   "outputs": [],
   "source": [
    "import requests\n",
    "data=requests.get(\"http://ip-api.com/json/\").json()\n",
    "print(data)"
   ]
  },
  {
   "cell_type": "markdown",
   "metadata": {},
   "source": [
    "# Find Geo Location by Data Scraping"
   ]
  },
  {
   "cell_type": "code",
   "execution_count": null,
   "metadata": {},
   "outputs": [],
   "source": [
    "import requests\n",
    "from bs4 import BeautifulSoup\n",
    "def Geo_Location():\n",
    "    page=requests.get(\"https://ipinfodb.com/\").text\n",
    "    soup=BeautifulSoup(page,'html.parser')\n",
    "    data=soup.find('table',{'class':'table'})\n",
    "    result=[]\n",
    "    for rows in data.find_all('tr'):\n",
    "        cols=rows.find_all('td')\n",
    "        if len(cols)>=2:\n",
    "            try: \n",
    "                result.append([cols[0].text,cols[1].text,cols[2].text])\n",
    "            except:\n",
    "                result.append([cols[0].text,cols[1].text])\n",
    "    address={}\n",
    "    ip=soup.find('h1',{'class':'pull-left'}).strong.text.split('-')\n",
    "    address[ip[0].strip()]=ip[1].strip()\n",
    "    for k in range(len(result)):\n",
    "        for i in result[k]:\n",
    "            address[i.split('\\n')[1]]=i.split('\\n')[2]\n",
    "    return address\n",
    "if __name__ == \"__main__\":\n",
    "    print(Geo_Location())\n",
    "\n",
    "    "
   ]
  },
  {
   "cell_type": "markdown",
   "metadata": {},
   "source": [
    "# Mongo DB CRUD"
   ]
  },
  {
   "cell_type": "code",
   "execution_count": null,
   "metadata": {},
   "outputs": [],
   "source": [
    "import pymongo\n",
    "myclient = pymongo.MongoClient(\"mongodb://localhost:27017/\")\n",
    "mydb = myclient[\"advisors\"]\n",
    "mycol=mydb['advisor']\n",
    "def mongo_client(data):\n",
    "    myclient = pymongo.MongoClient(\"mongodb://localhost:27017/\")\n",
    "    mydb = myclient[\"advisors\"]\n",
    "    mycol=mydb['advisor']\n",
    "    x=mycol.insert_many(data)\n",
    "    return f\"{len(x.inserted_ids)} items inserted successfully\", mycol"
   ]
  },
  {
   "cell_type": "code",
   "execution_count": null,
   "metadata": {},
   "outputs": [],
   "source": [
    "advisors =[\n",
    "            {\n",
    "                \"id\": 1,\n",
    "                \"Name\": \"Mukesh Bhardwaj\",\n",
    "                \"Gender\": \"Male\",\n",
    "                \"city\": \"Rampur\",\n",
    "                \"Experience\": \"7\",\n",
    "                \"state\": \"Uttar Pradesh\",\n",
    "                \"pin\":\"244901\",\n",
    "                \"specialization\":[\"ETFS\"]\n",
    "\n",
    "            },\n",
    "            {\n",
    "                \"id\": 2,\n",
    "                \"Name\": \"Aniska Sexsena\",\n",
    "                \"Gender\": \"Female\",\n",
    "                \"city\": \"Haridwar\",\n",
    "                \"Experience\": \"8\",\n",
    "                \"state\": \"Uttarakhand\",\n",
    "                \"pin\":\"24400901\",\n",
    "                \"specialization\":[\"Bonds\"]\n",
    "            },\n",
    "            {\n",
    "                \"id\": 3,\n",
    "                \"Name\": \"Dharmendra Singh\",\n",
    "                \"Gender\": \"Male\",\n",
    "                \"city\": \"Rampur\",\n",
    "                \"Experience\": \"5\",\n",
    "                \"state\": \"Uttar Pradesh\",\n",
    "                \"pin\":\"244924\",\n",
    "                \"specialization\":[\"Mutual Fund\", \"Equity\"]\n",
    "\n",
    "            },\n",
    "            {\n",
    "                \"id\": 4,\n",
    "                \"Name\": \"Rahul Singh\",\n",
    "                \"Gender\": \"Male\",\n",
    "                \"city\": \"Moradabad\",\n",
    "                \"Experience\": \"5\",\n",
    "                \"state\": \"Uttar Pradesh\",\n",
    "                \"pin\":\"244001\",\n",
    "                \"specialization\":[\"Equity\", \"ETFS\"]\n",
    "            },\n",
    "\n",
    "        ]"
   ]
  },
  {
   "cell_type": "code",
   "execution_count": null,
   "metadata": {},
   "outputs": [],
   "source": [
    "mongo_client(advisors)"
   ]
  },
  {
   "cell_type": "code",
   "execution_count": null,
   "metadata": {},
   "outputs": [],
   "source": [
    "x=mycol.find({},{'_id':0})\n"
   ]
  },
  {
   "cell_type": "code",
   "execution_count": null,
   "metadata": {},
   "outputs": [],
   "source": [
    "import collections\n",
    "Node = collections.namedtuple('Node', ['left', 'right', 'value'])\n",
    "n1 = Node(value=1, left=None, right=None)\n",
    "n3 = Node(value=3, left=None, right=None)\n",
    "n2 = Node(value=2, left=n1, right=n3)"
   ]
  },
  {
   "cell_type": "code",
   "execution_count": null,
   "metadata": {},
   "outputs": [],
   "source": [
    "print(n2.left)"
   ]
  },
  {
   "cell_type": "code",
   "execution_count": null,
   "metadata": {},
   "outputs": [],
   "source": [
    "getattr(Node1,\"left\")"
   ]
  },
  {
   "cell_type": "code",
   "execution_count": null,
   "metadata": {},
   "outputs": [],
   "source": [
    "import collections \n",
    "\n",
    "Student = collections.namedtuple('Student',['name','age','DOB']) \n",
    "S = Student(name='Nandini',age='19',DOB='2541997') \n",
    "print (\"The Student age using index is : \",end =\"\") \n",
    "print (S[1]) \n",
    "print (\"The Student name using keyname is : \",end =\"\") \n",
    "print (S.name) \n",
    "print (\"The Student DOB using getattr() is : \",end =\"\") \n",
    "print (getattr(S,'DOB')) "
   ]
  },
  {
   "cell_type": "code",
   "execution_count": null,
   "metadata": {},
   "outputs": [],
   "source": [
    "def unique_names(names1, names2):\n",
    "    names=[]    \n",
    "    for i in names1:\n",
    "        if i not in names2:\n",
    "            names.append(i)\n",
    "    for j in names2:\n",
    "        if j not in names:\n",
    "            names.append(j)\n",
    "    names.sort()\n",
    "    return names\n",
    "names1 = [\"Ava\", \"Emma\", \"Olivia\"]\n",
    "names2 = [\"Olivia\", \"Sophia\", \"Emma\"]\n",
    "print(unique_names(names1, names2)) # should print Ava, Emma, Olivia, Sophia"
   ]
  },
  {
   "cell_type": "code",
   "execution_count": null,
   "metadata": {},
   "outputs": [],
   "source": [
    "def unique_names(names1, names2):\n",
    "    \n",
    "names1 = [\"Ava\", \"Emma\", \"Olivia\"]\n",
    "names2 = [\"Olivia\", \"Sophia\", \"Emma\"]\n",
    "print(unique_names(names1, names2)) # should print Ava, Emma, Olivia, Sophia"
   ]
  },
  {
   "cell_type": "code",
   "execution_count": null,
   "metadata": {},
   "outputs": [],
   "source": [
    "names2=names2.sort()"
   ]
  },
  {
   "cell_type": "code",
   "execution_count": null,
   "metadata": {},
   "outputs": [],
   "source": [
    "round(3.5)"
   ]
  },
  {
   "cell_type": "code",
   "execution_count": null,
   "metadata": {},
   "outputs": [],
   "source": [
    "def is_palindrome(word):\n",
    "    word=word.lower()\n",
    "    if word==word[::-1]:\n",
    "        return True\n",
    "    else:\n",
    "        return False\n",
    "    \n",
    "print(is_palindrome('Deleveled'))"
   ]
  },
  {
   "cell_type": "code",
   "execution_count": null,
   "metadata": {},
   "outputs": [],
   "source": [
    "word='Deleveled'\n",
    "word1=word.casefold()"
   ]
  },
  {
   "cell_type": "code",
   "execution_count": null,
   "metadata": {},
   "outputs": [],
   "source": [
    "from math import*\n",
    "def find_roots(a,b,c):\n",
    "    p=(-b-sqrt(b**2-4*a*c))/2*a\n",
    "    m=(-b+sqrt(b**2-4*a*c))/2*a\n",
    "    return round(p),round(m)\n"
   ]
  },
  {
   "cell_type": "code",
   "execution_count": null,
   "metadata": {},
   "outputs": [],
   "source": [
    "(-b-sqrt(b**2-4*a*c))/2*a"
   ]
  },
  {
   "cell_type": "code",
   "execution_count": null,
   "metadata": {},
   "outputs": [],
   "source": [
    "find_roots(2, 10, 8) "
   ]
  },
  {
   "cell_type": "code",
   "execution_count": null,
   "metadata": {},
   "outputs": [],
   "source": [
    "import math \n",
    "  \n",
    "# Prints roots of quadratic equation  \n",
    "# ax*2 + bx + x \n",
    "def findRoots( a, b, c): \n",
    "  \n",
    "    # If a is 0, then equation is  \n",
    "    # not quadratic, but linear \n",
    "    if a == 0: \n",
    "        print(\"Invalid\") \n",
    "        return -1\n",
    "    d = b * b - 4 * a * c \n",
    "    sqrt_val = math.sqrt(abs(d)) \n",
    "      \n",
    "    if d > 0: \n",
    "        print(\"Roots are real and different \") \n",
    "        print((-b + sqrt_val)/(2 * a)) \n",
    "        print((-b - sqrt_val)/(2 * a)) \n",
    "    elif d == 0: \n",
    "        print(\"Roots are real and same\") \n",
    "        print(-b / (2*a)) \n",
    "    else: #d<0 \n",
    "        print(\"Roots are complex\") \n",
    "        print(- b / (2*a) , \" + i\", sqrt_val) \n",
    "        print(- b / (2*a) , \" - i\", sqrt_val) \n",
    "  \n",
    "# Driver Program \n",
    "a = 2\n",
    "b = 10\n",
    "c = 8\n",
    "findRoots(a, b, c) "
   ]
  },
  {
   "cell_type": "code",
   "execution_count": null,
   "metadata": {},
   "outputs": [],
   "source": [
    "d=10*10-4*2*8.3\n",
    "sqrt_val = math.sqrt(abs(d)) \n"
   ]
  },
  {
   "cell_type": "code",
   "execution_count": null,
   "metadata": {},
   "outputs": [],
   "source": [
    "a = 2\n",
    "b = 10\n",
    "c = 8\n",
    "# If a is 0, then equation is  \n",
    "# not quadratic, but linear \n",
    "if a == 0: \n",
    "    print(\"Invalid\") \n",
    "    #return -1\n",
    "d = b * b - 4 * a * c \n",
    "sqrt_val = math.sqrt(abs(d)) \n",
    "\n",
    "if d > 0: \n",
    "    print(\"Roots are real and different \") \n",
    "    print((-b + sqrt_val)/(2 * a)) \n",
    "    print((-b - sqrt_val)/(2 * a)) \n",
    "elif d == 0: \n",
    "    print(\"Roots are real and same\") \n",
    "    print(-b / (2*a)) \n",
    "else: #d<0 \n",
    "    print(\"Roots are complex\") \n",
    "    print(- b / (2*a) , \" + i\", sqrt_val) \n",
    "    print(- b / (2*a) , \" - i\", sqrt_val) "
   ]
  },
  {
   "cell_type": "code",
   "execution_count": null,
   "metadata": {},
   "outputs": [],
   "source": [
    "class IceCreamMachine:\n",
    "    \n",
    "    def __init__(self, ingredients, toppings):\n",
    "        self.ingredients = ingredients\n",
    "        self.toppings = toppings\n",
    "        \n",
    "    def scoops(self):\n",
    "        li=[]\n",
    "        k=0\n",
    "        for i in self.ingredients:\n",
    "            temp=[]\n",
    "            temp.append(i)\n",
    "            if len(self.toppings)>=2:\n",
    "                for j in range(len(self.toppings)):\n",
    "                    temp.append(self.toppings[j])\n",
    "            else:\n",
    "                temp.append(self.toppings[0])\n",
    "            li.append(temp)    \n",
    "        return li\n",
    "            \n",
    "\n",
    "machine = IceCreamMachine([\"vanilla\", \"chocolate\"], [\"chocolate sauce\"])\n",
    "print(machine.scoops()) #should print[['vanilla', 'chocolate sauce'], ['chocolate', 'chocolate sauce']]"
   ]
  },
  {
   "cell_type": "code",
   "execution_count": null,
   "metadata": {},
   "outputs": [],
   "source": []
  },
  {
   "cell_type": "code",
   "execution_count": null,
   "metadata": {},
   "outputs": [],
   "source": [
    "from math import*\n",
    "def find_roots(a, b, c):\n",
    "    d=sqrt(b*b-4*a*c)\n",
    "    plus=(-b+d)/(2*a)\n",
    "    minus=(-b-d)/(2*a)\n",
    "    return int(plus),int(minus)\n",
    "\n",
    "print(find_roots(2, 10, 8));"
   ]
  },
  {
   "cell_type": "code",
   "execution_count": null,
   "metadata": {},
   "outputs": [],
   "source": [
    "def find_two_sum(numbers, target_sum):\n",
    "    li=[]\n",
    "    temp=[]\n",
    "    for j,i in enumerate(numbers):\n",
    "        for k in range(j+1, len(numbers)):\n",
    "            if i+numbers[k]==10:\n",
    "                if len(temp)==0:\n",
    "                    temp.append(i)\n",
    "                    temp.append(numbers[k])\n",
    "                    #print(i,numbers[k])\n",
    "                    li.append(f\"{j} and {k} or ({k} and {i}) as {i} + {numbers[k]} = {i+numbers[k]}\")\n",
    "\n",
    "                if numbers[k] not in temp:\n",
    "                    #print(i,numbers[k])\n",
    "                    temp.append(i)\n",
    "                    temp.append(numbers[k])\n",
    "                    li.append(f\"{j} and {k} or ({k} and {i}) as {i} + {numbers[k]} = {i+numbers[k]}\")\n",
    "    \n",
    "    return tuple(li)\n",
    "\n",
    "print(find_two_sum([3, 1, 5, 7, 5, 9], 10))\n"
   ]
  },
  {
   "cell_type": "code",
   "execution_count": null,
   "metadata": {},
   "outputs": [],
   "source": [
    "def find_two_sum(numbers, target_sum):\n",
    "    li=[]\n",
    "    temp=[]\n",
    "    for j,i in enumerate(numbers):\n",
    "        for k in range(j+1, len(numbers)):\n",
    "            if i+numbers[k]==10:\n",
    "                if len(temp)==0:\n",
    "                    temp.append(i)\n",
    "                    temp.append(numbers[k])\n",
    "                    #print(i,numbers[k])\n",
    "                    li.append(f\"{j} and {k} or ({k} and {j}) as {i} + {numbers[k]} = {i+numbers[k]}\")\n",
    "\n",
    "                if numbers[k] not in temp:\n",
    "                    #print(i,numbers[k])\n",
    "                    temp.append(i)\n",
    "                    temp.append(numbers[k])\n",
    "                    li.append(f\"{j} and {k} or ({k} and {j}) as {i} + {numbers[k]} = {i+numbers[k]}\")\n",
    "    \n",
    "    return tuple(li)\n",
    "\n",
    "print(find_two_sum([3, 1, 5, 7, 5, 9], 10))\n"
   ]
  },
  {
   "cell_type": "code",
   "execution_count": null,
   "metadata": {},
   "outputs": [],
   "source": [
    "# importing twilio \n",
    "from twilio.rest import Client \n",
    "  \n",
    "# Your Account Sid and Auth Token from twilio.com / console \n",
    "account_sid = 'AC092f589fbb9356da710d804c10adf1d8'\n",
    "auth_token = '4583c3d540eb1f1304608eae60a7a394'\n",
    "  \n",
    "client = Client(account_sid, auth_token) \n",
    "  \n",
    "''' Change the value of 'from' with the number  \n",
    "received from Twilio and the value of 'to' \n",
    "with the number in which you want to send message.'''\n",
    "message = client.messages.create( \n",
    "                              from_='+12015089649', \n",
    "                              body ='Testing purpose Junaid', \n",
    "                              to ='+919927982550'\n",
    "                          ) \n",
    "  \n",
    "print(message.sid) "
   ]
  },
  {
   "cell_type": "code",
   "execution_count": null,
   "metadata": {},
   "outputs": [],
   "source": [
    "import requests\n",
    "data=requests.get('http://ip-api.com/json')\n",
    "print(data.json())"
   ]
  },
  {
   "cell_type": "code",
   "execution_count": null,
   "metadata": {},
   "outputs": [],
   "source": [
    "import requests\n",
    "from bs4 import BeautifulSoup"
   ]
  },
  {
   "cell_type": "code",
   "execution_count": null,
   "metadata": {},
   "outputs": [],
   "source": [
    "url='https://www.w3schools.com/python/default.asp'\n",
    "data=requests.get(url).text\n",
    "soup=BeautifulSoup(data,'html.parser')\n",
    "data2=soup.find('div',{'class':'w3-col l10 m12'})\n",
    "for i in data2.find_all('h2'):\n",
    "    print(i.text)\n",
    "for j in data2.find_all('h1'):\n",
    "    print(j.text)"
   ]
  },
  {
   "cell_type": "code",
   "execution_count": null,
   "metadata": {},
   "outputs": [],
   "source": [
    "n=133\n",
    "for i in range(1,n+1):\n",
    "    print(i,end='')"
   ]
  },
  {
   "cell_type": "code",
   "execution_count": null,
   "metadata": {},
   "outputs": [],
   "source": []
  },
  {
   "cell_type": "code",
   "execution_count": null,
   "metadata": {},
   "outputs": [],
   "source": [
    "a='1313one234five'\n",
    "li=[]\n",
    "li1=[]\n",
    "for i in a:\n",
    "    try:\n",
    "        li.append(str(int(i)))\n",
    "    except:\n",
    "        li1.append(i)\n",
    "print(li)\n",
    "print(li1)\n",
    "li=''.join(li)\n",
    "li1=''.join(li1)\n",
    "print(int(li))\n",
    "print(li1)"
   ]
  },
  {
   "cell_type": "code",
   "execution_count": null,
   "metadata": {},
   "outputs": [],
   "source": []
  },
  {
   "cell_type": "markdown",
   "metadata": {},
   "source": [
    "# For Create Username & Password"
   ]
  },
  {
   "cell_type": "code",
   "execution_count": null,
   "metadata": {},
   "outputs": [],
   "source": [
    "import sys\n",
    "import json\n",
    "import re\n",
    "def create():\n",
    "    user_datail=json.loads(open('user_detail.json').read())\n",
    "    user=input('Enter username: ')\n",
    "    pwd=input('Enter Password: ')\n",
    "    if user not in user_datail:\n",
    "        if len(pwd)>=6:\n",
    "            pattern = \"^.*(?=.{8,})(?=.*\\d)(?=.*[a-z])(?=.*[A-Z])(?=.*[@#$%^&+=]).*$\"\n",
    "            if re.match(pattern, pwd):\n",
    "                user_datail[user]=pwd\n",
    "                with open('user_detail.json', 'w') as json_file:\n",
    "                    json.dump(user_datail, json_file)\n",
    "                print('User Successfuly Created')\n",
    "\n",
    "            else:\n",
    "                print('Please use in username, alphabet, atleat one capital & one special character ')\n",
    "        else:\n",
    "            print('please cearte password minimum 6 character')\n",
    "    else:\n",
    "        print('username already taken, please choose different')\n",
    "def login():\n",
    "    user_datail=json.loads(open('user_detail.json').read())\n",
    "    user=input('Enter username: ')\n",
    "    pwd=input('Enter Password: ')\n",
    "    try:\n",
    "        if user_datail[user]==pwd:\n",
    "\n",
    "            print(f'User Successfuly login {user}')\n",
    "    except:\n",
    "        print('invalid username or password')\n",
    "\n",
    "print(\"1. create username & Password\")\n",
    "print('2. login')\n",
    "print('3. exit')\n",
    "a=int(input('Choose One: '))\n",
    "if a==1:\n",
    "    create()\n",
    "elif a==2:\n",
    "    login()\n",
    "elif a==3:\n",
    "    sys.exit()"
   ]
  },
  {
   "cell_type": "markdown",
   "metadata": {},
   "source": [
    "\n",
    "### For login with Username & Password"
   ]
  },
  {
   "cell_type": "code",
   "execution_count": null,
   "metadata": {},
   "outputs": [],
   "source": [
    "import re\n",
    "user_datail=json.loads(open('user_detail.json').read())\n",
    "pattern = \"^.*(?=.{8,})(?=.*\\d)(?=.*[a-z])(?=.*[A-Z])(?=.*[@#$%^&+=]).*$\"\n",
    "user=input('Enter username: ')\n",
    "pwd=input('Enter Password: ')\n",
    "if user not in user_datail:\n",
    "    \n",
    "else:\n",
    "        print('username already taken, please choose different')"
   ]
  },
  {
   "cell_type": "code",
   "execution_count": null,
   "metadata": {},
   "outputs": [],
   "source": [
    "import pandas as pd\n",
    "alpha=[]\n",
    "s_alpha=[]\n",
    "number=[]\n",
    "for i in range(65,91):\n",
    "    alpha.append(chr(i))\n",
    "    s_alpha.append(chr(i).lower())\n",
    "num=[]\n",
    "num1=[]\n",
    "for i in alpha:\n",
    "    num.append(ord(i))\n",
    "    num1.append(ord(i.lower()))\n",
    "number.append(num)\n",
    "number.append(s_alpha)\n",
    "number.append(num1)\n",
    "df=pd.DataFrame(number,columns=alpha)\n",
    "df.head()\n",
    "df.to_csv('alpha.csv', index=False)"
   ]
  },
  {
   "cell_type": "code",
   "execution_count": null,
   "metadata": {},
   "outputs": [],
   "source": [
    "from datetime import datetime\n",
    "while True:\n",
    "    time=datetime.now()\n",
    "    time=time.strftime('%H:%M:%S')\n",
    "    print(time, end='', flush=True)\n",
    "    print('\\r', end='', flush=True)\n"
   ]
  },
  {
   "cell_type": "code",
   "execution_count": null,
   "metadata": {
    "scrolled": true
   },
   "outputs": [],
   "source": [
    "from datetime import datetime\n",
    "M=0\n",
    "for i in range(120):\n",
    "    time=datetime.now()\n",
    "    time=time.strftime('%M:%S')\n",
    "    if time==60:\n",
    "        M+=1\n",
    "\n",
    "        print(time, end='', flush=True)\n",
    "        print('\\r', end='', flush=True)\n"
   ]
  },
  {
   "cell_type": "code",
   "execution_count": null,
   "metadata": {},
   "outputs": [],
   "source": [
    "import time as t\n",
    "M=0\n",
    "while True:\n",
    "    for i in range(0,60):\n",
    "        print(f'{M}:{i}',end='',flush=True)\n",
    "        print('\\r', end='', flush=True)\n",
    "        if i==59:\n",
    "            M+=1\n",
    "        t.sleep(1)\n",
    "        \n",
    "\n",
    "    "
   ]
  },
  {
   "cell_type": "code",
   "execution_count": null,
   "metadata": {},
   "outputs": [],
   "source": []
  },
  {
   "cell_type": "code",
   "execution_count": null,
   "metadata": {},
   "outputs": [],
   "source": []
  },
  {
   "cell_type": "code",
   "execution_count": null,
   "metadata": {},
   "outputs": [],
   "source": []
  },
  {
   "cell_type": "code",
   "execution_count": null,
   "metadata": {},
   "outputs": [],
   "source": []
  }
 ],
 "metadata": {
  "kernelspec": {
   "display_name": "Python 3",
   "language": "python",
   "name": "python3"
  },
  "language_info": {
   "codemirror_mode": {
    "name": "ipython",
    "version": 3
   },
   "file_extension": ".py",
   "mimetype": "text/x-python",
   "name": "python",
   "nbconvert_exporter": "python",
   "pygments_lexer": "ipython3",
   "version": "3.6.8"
  }
 },
 "nbformat": 4,
 "nbformat_minor": 2
}
