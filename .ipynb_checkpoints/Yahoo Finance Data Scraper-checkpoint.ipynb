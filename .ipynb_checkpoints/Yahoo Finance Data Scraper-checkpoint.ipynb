{
 "cells": [
  {
   "cell_type": "code",
   "execution_count": 1,
   "metadata": {},
   "outputs": [
    {
     "ename": "ModuleNotFoundError",
     "evalue": "No module named 'pandas'",
     "output_type": "error",
     "traceback": [
      "\u001b[0;31m---------------------------------------------------------------------------\u001b[0m",
      "\u001b[0;31mModuleNotFoundError\u001b[0m                       Traceback (most recent call last)",
      "\u001b[0;32m<ipython-input-1-6ece7b04d053>\u001b[0m in \u001b[0;36m<module>\u001b[0;34m\u001b[0m\n\u001b[0;32m----> 1\u001b[0;31m \u001b[0;32mimport\u001b[0m \u001b[0mpandas\u001b[0m \u001b[0;32mas\u001b[0m \u001b[0mpd\u001b[0m\u001b[0;34m\u001b[0m\u001b[0;34m\u001b[0m\u001b[0m\n\u001b[0m\u001b[1;32m      2\u001b[0m \u001b[0;32mimport\u001b[0m \u001b[0mnumpy\u001b[0m \u001b[0;32mas\u001b[0m \u001b[0mnp\u001b[0m\u001b[0;34m\u001b[0m\u001b[0;34m\u001b[0m\u001b[0m\n\u001b[1;32m      3\u001b[0m \u001b[0;32mfrom\u001b[0m \u001b[0mbs4\u001b[0m \u001b[0;32mimport\u001b[0m \u001b[0mBeautifulSoup\u001b[0m\u001b[0;34m\u001b[0m\u001b[0;34m\u001b[0m\u001b[0m\n\u001b[1;32m      4\u001b[0m \u001b[0;32mimport\u001b[0m \u001b[0mrequests\u001b[0m\u001b[0;34m\u001b[0m\u001b[0;34m\u001b[0m\u001b[0m\n\u001b[1;32m      5\u001b[0m \u001b[0murl\u001b[0m\u001b[0;34m=\u001b[0m\u001b[0minput\u001b[0m\u001b[0;34m(\u001b[0m\u001b[0;34m'Enter URL or Paste here: '\u001b[0m\u001b[0;34m)\u001b[0m\u001b[0;34m\u001b[0m\u001b[0;34m\u001b[0m\u001b[0m\n",
      "\u001b[0;31mModuleNotFoundError\u001b[0m: No module named 'pandas'"
     ]
    }
   ],
   "source": [
    "import pandas as pd\n",
    "import numpy as np\n",
    "from bs4 import BeautifulSoup\n",
    "import requests\n",
    "url=input('Enter URL or Paste here: ')\n",
    "page=requests.get(url).text\n",
    "soup=BeautifulSoup(page,'html.parser')\n",
    "data=soup.find('table',{'class':'W(100%) M(0)'})\n",
    "table=[]\n",
    "for rows in data.find_all('tr'):\n",
    "    cols=rows.find_all('td')\n",
    "    if len(cols)==7:\n",
    "        dat=[]\n",
    "        table.append(dat)\n",
    "        for i in range(len(cols)):\n",
    "            dat.append(cols[i].text.strip())\n",
    "col_name=[]\n",
    "for th in data.find_all('th'):\n",
    "    name=th.find_all('span')\n",
    "    for i in name:\n",
    "        col_name.append(i.text.strip())\n",
    "    #col.append(name[0].text.strip())\n",
    "col_name\n",
    "df=pd.DataFrame(table, columns=col_name)\n",
    "df=df.apply(pd.to_numeric ,errors='ignore')\n",
    "#df.info()\n",
    "df.head()\n"
   ]
  },
  {
   "cell_type": "code",
   "execution_count": 186,
   "metadata": {},
   "outputs": [
    {
     "data": {
      "text/plain": [
       "(100, 7)"
      ]
     },
     "execution_count": 186,
     "metadata": {},
     "output_type": "execute_result"
    }
   ],
   "source": [
    "df.shape"
   ]
  },
  {
   "cell_type": "code",
   "execution_count": 178,
   "metadata": {},
   "outputs": [
    {
     "name": "stdout",
     "output_type": "stream",
     "text": [
      "1. What is your age?\n",
      "A) 35 years or under\n",
      "B) 36-54\n",
      "C) 55 or above\n",
      "Select Answer: a\n",
      "2. What do you expect to be your next major expenditure?\n",
      "A) Buying a house\n",
      "B) Paying for a college education\n",
      "C) Capitalizing a new business\n",
      "D) Providing for retirement\n",
      "Select Answer: b\n",
      "3. When do you expect to use most of the money you are now accumulating in your investments?\n",
      "A) At any time now...so a high level of liquidity is important\n",
      "B) Probably in the future...2-5 years from now\n",
      "C) In 6-10 years\n",
      "D) Probably in 11-20 or more years from now\n",
      "Select Answer: c\n",
      "Total Points 15\n"
     ]
    }
   ],
   "source": [
    "total=0\n",
    "print('1. What is your age?')\n",
    "print('A) 35 years or under')\n",
    "print('B) 36-54')\n",
    "print('C) 55 or above')\n",
    "s=input('Select Answer: ').upper()\n",
    "if s =='A':\n",
    "    total+=5\n",
    "elif s == 'B':\n",
    "    total+=4\n",
    "elif s == 'C':\n",
    "    total+=6\n",
    "\n",
    "print('2. What do you expect to be your next major expenditure?')\n",
    "print('A) Buying a house')\n",
    "print('B) Paying for a college education')\n",
    "print('C) Capitalizing a new business')\n",
    "print('D) Providing for retirement')\n",
    "s=input('Select Answer: ').upper()\n",
    "if s =='A':\n",
    "    total+=5\n",
    "elif s == 'B':\n",
    "    total+=4\n",
    "elif s == 'C':\n",
    "    total+=6\n",
    "elif s=='D':\n",
    "    total+=7\n",
    "print('3. When do you expect to use most of the money you are now accumulating in your investments?')\n",
    "print('A) At any time now...so a high level of liquidity is important')\n",
    "print('B) Probably in the future...2-5 years from now')\n",
    "print('C) In 6-10 years')\n",
    "print('D) Probably in 11-20 or more years from now')\n",
    "s=input('Select Answer: ').upper()\n",
    "if s =='A':\n",
    "    total+=5\n",
    "elif s == 'B':\n",
    "    total+=4\n",
    "elif s == 'C':\n",
    "    total+=6\n",
    "elif s=='D':\n",
    "    total+=7\n",
    "    \n",
    "print('Total Points',total)\n",
    "    \n",
    "\n"
   ]
  },
  {
   "cell_type": "code",
   "execution_count": null,
   "metadata": {},
   "outputs": [],
   "source": [
    "mongod"
   ]
  },
  {
   "cell_type": "code",
   "execution_count": 180,
   "metadata": {},
   "outputs": [],
   "source": [
    "data={\"portfolioChart\": [{\"a\": \"2019-10-13T00:00:00+05:30\",\"b\": 50.1},                            \n",
    "                             {\"a\": \"2019-10-12T00:00:00+05:30\",\"b\": 100.2},\n",
    "                             {\"a\": \"2019-10-11T00:00:00+05:30\",\"b\": 554.3},\n",
    "                             {\"a\": \"2019-10-10T00:00:00+05:30\",\"b\": 877.2},\n",
    "                             {\"a\": \"2019-10-09T00:00:00+05:30\",\"b\": 787.6}],\n",
    " \"totalAssets\": [{\"a\": \"MF\",\"b\": 0.8},\n",
    "                {\"a\": \"Equity\",\"b\": 0.65},\n",
    "                {\"a\": \"Bonds\",\"b\": 0.4},\n",
    "                {\"a\": \"Cash\",\"b\": 0.1},\n",
    "                {\"a\": \"Deposits\",\"b\": 0.1}],\n",
    "\n",
    "\"liabilities\": {\"a\": 4.3,\"b\": \"From 3 Source\"},\n",
    "\"riskProfile\": {\"a\": \"50%\",\"b\": \"Moderate\"},\n",
    "\"goals\": {\"a\": \"Vacation\",\"b\": 455.3,\"c\": False },\n",
    "\"totalNetWorth\": 2.35,\n",
    "\"predictedWorth\": {\"a\": \"2019-10-13T00:00:00+05:30\",\"b\": 5.6},\n",
    "\"mf\": [{\"mfName\": \"Aditya Birla Sun Life Frontline Equity Fund\",\"rating\": 4.0,\"currentNAV\": 223.75,\"minInvestment\": 500.0,\"return\": 23.22},\n",
    " {\"mfName\": \"HDFC Index Fund - Sensex Plan\",\"rating\": 4.0,\"currentNAV\": 347.7939,\"minInvestment\": 500.0,\"return\": 23.22},\n",
    " {\"mfName\": \"Reliance Large Cap Fund\",\"rating\": 4.0,\"currentNAV\": 34.204,\"minInvestment\": 500.0,\"return\": 23.22},\n",
    " {\"mfName\": \"Mirae Asset Large Cap Fund - Regular Plan\",\"rating\": 4.0,\"currentNAV\": 51.588,\"minInvestment\": 500.0,\"return\": 23.22}],\n",
    "\"didError\": False,\n",
    "\"errorMessage\": \"\",\n",
    "\"errorCode\": 'None'\n",
    "}"
   ]
  },
  {
   "cell_type": "code",
   "execution_count": 181,
   "metadata": {},
   "outputs": [],
   "source": [
    "from datetime import*\n",
    "import pymongo\n",
    "myclient = pymongo.MongoClient(\"mongodb://localhost:27017/\")\n",
    "mydb = myclient[\"mydatabase\"]\n",
    "mycol = mydb[date.today().strftime(\"%d_%m_%Y\")]\n"
   ]
  },
  {
   "cell_type": "code",
   "execution_count": 183,
   "metadata": {},
   "outputs": [
    {
     "name": "stdout",
     "output_type": "stream",
     "text": [
      "collection data already exists\n"
     ]
    }
   ],
   "source": [
    "if data in mycol.find():\n",
    "    print('collection data already exists')\n",
    "else:\n",
    "    insrt=mycol.insert_one(data)\n",
    "    print('successfully inserted')\n",
    "\n"
   ]
  },
  {
   "cell_type": "code",
   "execution_count": 184,
   "metadata": {},
   "outputs": [
    {
     "name": "stdout",
     "output_type": "stream",
     "text": [
      "{'_id': ObjectId('5da43c13f979d83e5b6d6347'), 'portfolioChart': [{'a': '2019-10-13T00:00:00+05:30', 'b': 50.1}, {'a': '2019-10-12T00:00:00+05:30', 'b': 100.2}, {'a': '2019-10-11T00:00:00+05:30', 'b': 554.3}, {'a': '2019-10-10T00:00:00+05:30', 'b': 877.2}, {'a': '2019-10-09T00:00:00+05:30', 'b': 787.6}], 'totalAssets': [{'a': 'MF', 'b': 0.8}, {'a': 'Equity', 'b': 0.65}, {'a': 'Bonds', 'b': 0.4}, {'a': 'Cash', 'b': 0.1}, {'a': 'Deposits', 'b': 0.1}], 'liabilities': {'a': 4.3, 'b': 'From 3 Source'}, 'riskProfile': {'a': '50%', 'b': 'Moderate'}, 'goals': {'a': 'Vacation', 'b': 455.3, 'c': False}, 'totalNetWorth': 2.35, 'predictedWorth': {'a': '2019-10-13T00:00:00+05:30', 'b': 5.6}, 'mf': [{'mfName': 'Aditya Birla Sun Life Frontline Equity Fund', 'rating': 4.0, 'currentNAV': 223.75, 'minInvestment': 500.0, 'return': 23.22}, {'mfName': 'HDFC Index Fund - Sensex Plan', 'rating': 4.0, 'currentNAV': 347.7939, 'minInvestment': 500.0, 'return': 23.22}, {'mfName': 'Reliance Large Cap Fund', 'rating': 4.0, 'currentNAV': 34.204, 'minInvestment': 500.0, 'return': 23.22}, {'mfName': 'Mirae Asset Large Cap Fund - Regular Plan', 'rating': 4.0, 'currentNAV': 51.588, 'minInvestment': 500.0, 'return': 23.22}], 'didError': False, 'errorMessage': '', 'errorCode': 'None'}\n",
      "{'_id': ObjectId('5da441c9f979d83e5b6d634b'), 'portfolioChart': [{'a': '2019-10-13T00:00:00+05:30', 'b': 50.1}, {'a': '2019-10-12T00:00:00+05:30', 'b': 100.2}, {'a': '2019-10-11T00:00:00+05:30', 'b': 554.3}, {'a': '2019-10-10T00:00:00+05:30', 'b': 877.2}, {'a': '2019-10-09T00:00:00+05:30', 'b': 787.6}], 'totalAssets': [{'a': 'MF', 'b': 0.8}, {'a': 'Equity', 'b': 0.65}, {'a': 'Bonds', 'b': 0.4}, {'a': 'Cash', 'b': 0.1}, {'a': 'Deposits', 'b': 0.1}], 'liabilities': {'a': 4.3, 'b': 'From 3 Source'}, 'riskProfile': {'a': '50%', 'b': 'Moderate'}, 'goals': {'a': 'Vacation', 'b': 455.3, 'c': False}, 'totalNetWorth': 2.35, 'predictedWorth': {'a': '2019-10-13T00:00:00+05:30', 'b': 5.6}, 'mf': [{'mfName': 'Aditya Birla Sun Life Frontline Equity Fund', 'rating': 4.0, 'currentNAV': 223.75, 'minInvestment': 500.0, 'return': 23.22}, {'mfName': 'HDFC Index Fund - Sensex Plan', 'rating': 4.0, 'currentNAV': 347.7939, 'minInvestment': 500.0, 'return': 23.22}, {'mfName': 'Reliance Large Cap Fund', 'rating': 4.0, 'currentNAV': 34.204, 'minInvestment': 500.0, 'return': 23.22}, {'mfName': 'Mirae Asset Large Cap Fund - Regular Plan', 'rating': 4.0, 'currentNAV': 51.588, 'minInvestment': 500.0, 'return': 23.22}], 'didError': False, 'errorMessage': '', 'errorCode': 'None'}\n",
      "{'_id': ObjectId('5da45b51e04bf2ea7a1b3e27'), 'portfolioChart': [{'a': '2019-10-13T00:00:00+05:30', 'b': 50.1}, {'a': '2019-10-12T00:00:00+05:30', 'b': 100.2}, {'a': '2019-10-11T00:00:00+05:30', 'b': 554.3}, {'a': '2019-10-10T00:00:00+05:30', 'b': 877.2}, {'a': '2019-10-09T00:00:00+05:30', 'b': 787.6}], 'totalAssets': [{'a': 'MF', 'b': 0.8}, {'a': 'Equity', 'b': 0.65}, {'a': 'Bonds', 'b': 0.4}, {'a': 'Cash', 'b': 0.1}, {'a': 'Deposits', 'b': 0.1}], 'liabilities': {'a': 4.3, 'b': 'From 3 Source'}, 'riskProfile': {'a': '50%', 'b': 'Moderate'}, 'goals': {'a': 'Vacation', 'b': 455.3, 'c': False}, 'totalNetWorth': 2.35, 'predictedWorth': {'a': '2019-10-13T00:00:00+05:30', 'b': 5.6}, 'mf': [{'mfName': 'Aditya Birla Sun Life Frontline Equity Fund', 'rating': 4.0, 'currentNAV': 223.75, 'minInvestment': 500.0, 'return': 23.22}, {'mfName': 'HDFC Index Fund - Sensex Plan', 'rating': 4.0, 'currentNAV': 347.7939, 'minInvestment': 500.0, 'return': 23.22}, {'mfName': 'Reliance Large Cap Fund', 'rating': 4.0, 'currentNAV': 34.204, 'minInvestment': 500.0, 'return': 23.22}, {'mfName': 'Mirae Asset Large Cap Fund - Regular Plan', 'rating': 4.0, 'currentNAV': 51.588, 'minInvestment': 500.0, 'return': 23.22}], 'didError': False, 'errorMessage': '', 'errorCode': 'None'}\n",
      "{'_id': ObjectId('5da45b56e04bf2ea7a1b3e28'), 'name': 'John', 'address': 'Highway 37'}\n",
      "{'_id': ObjectId('5da4659be04bf2ea7a1b3e2d'), 'portfolioChart': [{'a': '2019-10-13T00:00:00+05:30', 'b': 50.1}, {'a': '2019-10-12T00:00:00+05:30', 'b': 100.2}, {'a': '2019-10-11T00:00:00+05:30', 'b': 554.3}, {'a': '2019-10-10T00:00:00+05:30', 'b': 877.2}, {'a': '2019-10-09T00:00:00+05:30', 'b': 787.6}], 'totalAssets': [{'a': 'MF', 'b': 0.8}, {'a': 'Equity', 'b': 0.65}, {'a': 'Bonds', 'b': 0.4}, {'a': 'Cash', 'b': 0.1}, {'a': 'Deposits', 'b': 0.1}], 'liabilities': {'a': 4.3, 'b': 'From 3 Source'}, 'riskProfile': {'a': '50%', 'b': 'Moderate'}, 'goals': {'a': 'Vacation', 'b': 455.3, 'c': False}, 'totalNetWorth': 2.35, 'predictedWorth': {'a': '2019-10-13T00:00:00+05:30', 'b': 5.6}, 'mf': [{'mfName': 'Aditya Birla Sun Life Frontline Equity Fund', 'rating': 4.0, 'currentNAV': 223.75, 'minInvestment': 500.0, 'return': 23.22}, {'mfName': 'HDFC Index Fund - Sensex Plan', 'rating': 4.0, 'currentNAV': 347.7939, 'minInvestment': 500.0, 'return': 23.22}, {'mfName': 'Reliance Large Cap Fund', 'rating': 4.0, 'currentNAV': 34.204, 'minInvestment': 500.0, 'return': 23.22}, {'mfName': 'Mirae Asset Large Cap Fund - Regular Plan', 'rating': 4.0, 'currentNAV': 51.588, 'minInvestment': 500.0, 'return': 23.22}], 'didError': False, 'errorMessage': '', 'errorCode': 'None'}\n"
     ]
    }
   ],
   "source": [
    "for i in mycol.find():\n",
    "    print(i)"
   ]
  },
  {
   "cell_type": "code",
   "execution_count": null,
   "metadata": {},
   "outputs": [],
   "source": []
  },
  {
   "cell_type": "code",
   "execution_count": null,
   "metadata": {},
   "outputs": [],
   "source": []
  },
  {
   "cell_type": "code",
   "execution_count": null,
   "metadata": {},
   "outputs": [],
   "source": []
  },
  {
   "cell_type": "code",
   "execution_count": null,
   "metadata": {},
   "outputs": [],
   "source": []
  }
 ],
 "metadata": {
  "kernelspec": {
   "display_name": "Python 3",
   "language": "python",
   "name": "python3"
  },
  "language_info": {
   "codemirror_mode": {
    "name": "ipython",
    "version": 3
   },
   "file_extension": ".py",
   "mimetype": "text/x-python",
   "name": "python",
   "nbconvert_exporter": "python",
   "pygments_lexer": "ipython3",
   "version": "3.6.8"
  }
 },
 "nbformat": 4,
 "nbformat_minor": 2
}
