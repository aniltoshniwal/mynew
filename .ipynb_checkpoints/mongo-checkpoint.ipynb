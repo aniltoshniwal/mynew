{
 "cells": [
  {
   "cell_type": "code",
   "execution_count": 1,
   "metadata": {},
   "outputs": [],
   "source": [
    "import pymongo\n",
    "import pandas as pd\n",
    "import numpy as np\n"
   ]
  },
  {
   "cell_type": "code",
   "execution_count": 2,
   "metadata": {},
   "outputs": [],
   "source": [
    "myclient = pymongo.MongoClient(\"mongodb://localhost:27017/\")\n",
    "mydb = myclient[\"mydatabase\"]\n",
    "mycol=mydb['output_data']"
   ]
  },
  {
   "cell_type": "code",
   "execution_count": 3,
   "metadata": {},
   "outputs": [],
   "source": [
    "advisors =[\n",
    "            {\n",
    "                \"id\": 1,\n",
    "                \"Name\": \"Mukesh Bhardwaj\",\n",
    "                \"Gender\": \"Male\",\n",
    "                \"city\": \"Rampur\",\n",
    "                \"Experience\": \"7\",\n",
    "                \"state\": \"Uttar Pradesh\",\n",
    "                \"pin\":\"244901\",\n",
    "                \"specialization\":[\"ETFS\"]\n",
    "\n",
    "            },\n",
    "            {\n",
    "                \"id\": 2,\n",
    "                \"Name\": \"Aniska Sexsena\",\n",
    "                \"Gender\": \"Female\",\n",
    "                \"city\": \"Haridwar\",\n",
    "                \"Experience\": \"8\",\n",
    "                \"state\": \"Uttarakhand\",\n",
    "                \"pin\":\"24400901\",\n",
    "                \"specialization\":[\"Bonds\"]\n",
    "            },\n",
    "            {\n",
    "                \"id\": 3,\n",
    "                \"Name\": \"Dharmendra Singh\",\n",
    "                \"Gender\": \"Male\",\n",
    "                \"city\": \"Rampur\",\n",
    "                \"Experience\": \"5\",\n",
    "                \"state\": \"Uttar Pradesh\",\n",
    "                \"pin\":\"244924\"\n",
    "                \"specialization\":[\"Mutual Fund\", \"Equity\"]\n",
    "\n",
    "            },\n",
    "            {\n",
    "                \"id\": 4,\n",
    "                \"Name\": \"Rahul Singh\",\n",
    "                \"Gender\": \"Male\",\n",
    "                \"city\": \"Moradabad\",\n",
    "                \"Experience\": \"5\",\n",
    "                \"state\": \"Uttar Pradesh\",\n",
    "                \"pin\":\"244001\"\n",
    "                \"specialization\":[\"Equity\", \"ETFS\"]\n",
    "            },\n",
    "\n",
    "        ]"
   ]
  },
  {
   "cell_type": "code",
   "execution_count": 7,
   "metadata": {},
   "outputs": [],
   "source": [
    "x=mycol.insert_many(advisors)"
   ]
  },
  {
   "cell_type": "code",
   "execution_count": 14,
   "metadata": {},
   "outputs": [],
   "source": [
    "x=mycol.find({},{'_id':0})"
   ]
  },
  {
   "cell_type": "code",
   "execution_count": 15,
   "metadata": {},
   "outputs": [
    {
     "name": "stdout",
     "output_type": "stream",
     "text": [
      "{'id': 1, 'Name': 'Mukesh Bhardwaj', 'Gender': 'Male', 'city': 'Rampur', 'Experience': '7', 'state': 'Uttar Pradesh', 'specialization': ['ETFS']}\n",
      "{'id': 2, 'Name': 'Aniska Sexsena', 'Gender': 'Female', 'city': 'Haridwar', 'Experience': '8', 'state': 'Uttarakhand', 'specialization': ['Bonds']}\n",
      "{'id': 3, 'Name': 'Dharmendra Singh', 'Gender': 'Male', 'city': 'Rampur', 'Experience': '5', 'state': 'Uttar Pradesh', 'specialization': ['Mutual Fund', 'Equity']}\n",
      "{'id': 4, 'Name': 'Rahul Singh', 'Gender': 'Male', 'city': 'Rampur', 'Experience': '5', 'state': 'Uttar Pradesh', 'specialization': ['Equity', 'ETFS']}\n"
     ]
    }
   ],
   "source": [
    "for i in x:\n",
    "    print(i)\n"
   ]
  },
  {
   "cell_type": "code",
   "execution_count": 116,
   "metadata": {},
   "outputs": [
    {
     "ename": "TypeError",
     "evalue": "if no direction is specified, key_or_list must be an instance of list",
     "output_type": "error",
     "traceback": [
      "\u001b[0;31m---------------------------------------------------------------------------\u001b[0m",
      "\u001b[0;31mTypeError\u001b[0m                                 Traceback (most recent call last)",
      "\u001b[0;32m<ipython-input-116-45fae1ad4ca4>\u001b[0m in \u001b[0;36m<module>\u001b[0;34m\u001b[0m\n\u001b[0;32m----> 1\u001b[0;31m \u001b[0mx\u001b[0m\u001b[0;34m=\u001b[0m\u001b[0mmycol\u001b[0m\u001b[0;34m.\u001b[0m\u001b[0mfind\u001b[0m\u001b[0;34m(\u001b[0m\u001b[0;34m{\u001b[0m\u001b[0;34m\"specialization\"\u001b[0m\u001b[0;34m:\u001b[0m \u001b[0;34m{\u001b[0m\u001b[0;34m\"$in\"\u001b[0m\u001b[0;34m:\u001b[0m \u001b[0;34m[\u001b[0m\u001b[0;34m'Equity'\u001b[0m\u001b[0;34m,\u001b[0m \u001b[0;34m'ETFS'\u001b[0m\u001b[0;34m]\u001b[0m\u001b[0;34m}\u001b[0m\u001b[0;34m}\u001b[0m\u001b[0;34m)\u001b[0m\u001b[0;34m.\u001b[0m\u001b[0msort\u001b[0m\u001b[0;34m(\u001b[0m \u001b[0;34m{\u001b[0m \u001b[0;34m'Name'\u001b[0m\u001b[0;34m:\u001b[0m \u001b[0;34m-\u001b[0m\u001b[0;36m1\u001b[0m \u001b[0;34m}\u001b[0m \u001b[0;34m)\u001b[0m\u001b[0;34m\u001b[0m\u001b[0;34m\u001b[0m\u001b[0m\n\u001b[0m",
      "\u001b[0;32m~/.local/lib/python3.6/site-packages/pymongo/cursor.py\u001b[0m in \u001b[0;36msort\u001b[0;34m(self, key_or_list, direction)\u001b[0m\n\u001b[1;32m    724\u001b[0m         \"\"\"\n\u001b[1;32m    725\u001b[0m         \u001b[0mself\u001b[0m\u001b[0;34m.\u001b[0m\u001b[0m__check_okay_to_chain\u001b[0m\u001b[0;34m(\u001b[0m\u001b[0;34m)\u001b[0m\u001b[0;34m\u001b[0m\u001b[0;34m\u001b[0m\u001b[0m\n\u001b[0;32m--> 726\u001b[0;31m         \u001b[0mkeys\u001b[0m \u001b[0;34m=\u001b[0m \u001b[0mhelpers\u001b[0m\u001b[0;34m.\u001b[0m\u001b[0m_index_list\u001b[0m\u001b[0;34m(\u001b[0m\u001b[0mkey_or_list\u001b[0m\u001b[0;34m,\u001b[0m \u001b[0mdirection\u001b[0m\u001b[0;34m)\u001b[0m\u001b[0;34m\u001b[0m\u001b[0;34m\u001b[0m\u001b[0m\n\u001b[0m\u001b[1;32m    727\u001b[0m         \u001b[0mself\u001b[0m\u001b[0;34m.\u001b[0m\u001b[0m__ordering\u001b[0m \u001b[0;34m=\u001b[0m \u001b[0mhelpers\u001b[0m\u001b[0;34m.\u001b[0m\u001b[0m_index_document\u001b[0m\u001b[0;34m(\u001b[0m\u001b[0mkeys\u001b[0m\u001b[0;34m)\u001b[0m\u001b[0;34m\u001b[0m\u001b[0;34m\u001b[0m\u001b[0m\n\u001b[1;32m    728\u001b[0m         \u001b[0;32mreturn\u001b[0m \u001b[0mself\u001b[0m\u001b[0;34m\u001b[0m\u001b[0;34m\u001b[0m\u001b[0m\n",
      "\u001b[0;32m~/.local/lib/python3.6/site-packages/pymongo/helpers.py\u001b[0m in \u001b[0;36m_index_list\u001b[0;34m(key_or_list, direction)\u001b[0m\n\u001b[1;32m     71\u001b[0m             \u001b[0;32mreturn\u001b[0m \u001b[0;34m[\u001b[0m\u001b[0;34m(\u001b[0m\u001b[0mkey_or_list\u001b[0m\u001b[0;34m,\u001b[0m \u001b[0mASCENDING\u001b[0m\u001b[0;34m)\u001b[0m\u001b[0;34m]\u001b[0m\u001b[0;34m\u001b[0m\u001b[0;34m\u001b[0m\u001b[0m\n\u001b[1;32m     72\u001b[0m         \u001b[0;32melif\u001b[0m \u001b[0;32mnot\u001b[0m \u001b[0misinstance\u001b[0m\u001b[0;34m(\u001b[0m\u001b[0mkey_or_list\u001b[0m\u001b[0;34m,\u001b[0m \u001b[0;34m(\u001b[0m\u001b[0mlist\u001b[0m\u001b[0;34m,\u001b[0m \u001b[0mtuple\u001b[0m\u001b[0;34m)\u001b[0m\u001b[0;34m)\u001b[0m\u001b[0;34m:\u001b[0m\u001b[0;34m\u001b[0m\u001b[0;34m\u001b[0m\u001b[0m\n\u001b[0;32m---> 73\u001b[0;31m             raise TypeError(\"if no direction is specified, \"\n\u001b[0m\u001b[1;32m     74\u001b[0m                             \"key_or_list must be an instance of list\")\n\u001b[1;32m     75\u001b[0m         \u001b[0;32mreturn\u001b[0m \u001b[0mkey_or_list\u001b[0m\u001b[0;34m\u001b[0m\u001b[0;34m\u001b[0m\u001b[0m\n",
      "\u001b[0;31mTypeError\u001b[0m: if no direction is specified, key_or_list must be an instance of list"
     ]
    }
   ],
   "source": [
    "x=mycol.find({\"specialization\": {\"$in\": ['Equity', 'ETFS']}}).sort( { 'Name': -1 } )"
   ]
  },
  {
   "cell_type": "code",
   "execution_count": 115,
   "metadata": {},
   "outputs": [],
   "source": [
    "for i in x:\n",
    "    print(i)"
   ]
  },
  {
   "cell_type": "code",
   "execution_count": null,
   "metadata": {},
   "outputs": [],
   "source": [
    "PersonModel.find({ favouriteFoods: { \"$in\" : [\"sushi\"]} }, ...);\n"
   ]
  },
  {
   "cell_type": "code",
   "execution_count": null,
   "metadata": {},
   "outputs": [],
   "source": []
  }
 ],
 "metadata": {
  "kernelspec": {
   "display_name": "Python 3",
   "language": "python",
   "name": "python3"
  },
  "language_info": {
   "codemirror_mode": {
    "name": "ipython",
    "version": 3
   },
   "file_extension": ".py",
   "mimetype": "text/x-python",
   "name": "python",
   "nbconvert_exporter": "python",
   "pygments_lexer": "ipython3",
   "version": "3.6.8"
  }
 },
 "nbformat": 4,
 "nbformat_minor": 2
}
