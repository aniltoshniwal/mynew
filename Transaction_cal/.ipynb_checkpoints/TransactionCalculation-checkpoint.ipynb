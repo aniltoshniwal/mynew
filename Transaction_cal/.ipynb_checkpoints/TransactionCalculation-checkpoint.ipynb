{
 "cells": [
  {
   "cell_type": "code",
   "execution_count": 1,
   "metadata": {},
   "outputs": [],
   "source": [
    "data={\"NAV\":[10,11,12,13,9,7,15],\n",
    "     \"Units\":[100,500,100,50,10,500,1000]}"
   ]
  },
  {
   "cell_type": "code",
   "execution_count": 19,
   "metadata": {},
   "outputs": [
    {
     "name": "stdout",
     "output_type": "stream",
     "text": [
      "Invested Amount 26440\n",
      "Units Balance 2210\n",
      "Realised Gain 150\n",
      "Unrealised Gain 2290\n",
      "Avg NAV 11.96\n"
     ]
    }
   ],
   "source": [
    "import pandas as pd\n",
    "table=pd.DataFrame(data)\n",
    "df=table.copy()\n",
    "table['Amount']=table['NAV']*table['Units']\n",
    "sales=50\n",
    "Current_NAV=13\n",
    "profit=0\n",
    "j=0\n",
    "for i in df['Units']:\n",
    "    if i==sales:\n",
    "        profit=profit+(sales*Current_NAV)-(df['NAV'][j]*i)\n",
    "        df.drop([j], axis=0, inplace=True)\n",
    "        break\n",
    "    elif i<sales:\n",
    "        profit=profit+(i*Current_NAV)-(df['NAV'][j]*i)\n",
    "        sales=sales-i\n",
    "        df.drop([j], axis=0, inplace=True)\n",
    "    elif i>sales:\n",
    "        profit=profit+(sales*Current_NAV)-(df['NAV'][j]*sales)\n",
    "        units=i-sales\n",
    "        df['Units'][j]=units\n",
    "        break \n",
    "    j+=1\n",
    "    \n",
    "    \n",
    "jsonData={}   \n",
    "\n",
    "df1=df['NAV']*df['Units']\n",
    "amt = df1.sum()\n",
    "units = df['Units'].sum()\n",
    "avg_nav = amt/units\n",
    "unrealised_gain=(Current_NAV*units)-amount\n",
    "df['Amount']=df['NAV']*df['Units']\n",
    "amount = df['Amount'].sum()\n",
    "\n",
    "for i in df.columns:\n",
    "    jsonData[i]=[j for j in df[i]]\n",
    "\n",
    "jsonData['invested_amt']=amount\n",
    "jsonData['unit_bal']=units\n",
    "jsonData['realised_gain']=profit\n",
    "jsonData['avg_nav']=avg_nav\n",
    "jsonData['unrealised_gain']=unrealised_gain\n",
    "\n",
    "print(f'Invested Amount {amount}')\n",
    "print(f'Units Balance {units}')\n",
    "print(f'Realised Gain {profit}')\n",
    "print(f'Unrealised Gain {unrealised_gain}')\n",
    "print('Avg NAV %.2f'% avg_nav)\n"
   ]
  }
 ],
 "metadata": {
  "kernelspec": {
   "display_name": "Python 3",
   "language": "python",
   "name": "python3"
  },
  "language_info": {
   "codemirror_mode": {
    "name": "ipython",
    "version": 3
   },
   "file_extension": ".py",
   "mimetype": "text/x-python",
   "name": "python",
   "nbconvert_exporter": "python",
   "pygments_lexer": "ipython3",
   "version": "3.6.8"
  }
 },
 "nbformat": 4,
 "nbformat_minor": 2
}
