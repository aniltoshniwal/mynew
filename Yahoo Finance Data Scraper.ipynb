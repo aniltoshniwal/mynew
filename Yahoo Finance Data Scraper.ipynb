{
 "cells": [
  {
   "cell_type": "code",
   "execution_count": null,
   "metadata": {},
   "outputs": [],
   "source": [
    "import pandas as pd\n",
    "import numpy as np\n",
    "from bs4 import BeautifulSoup\n",
    "import requests\n",
    "url=input('Enter URL or Paste here: ')\n",
    "page=requests.get(url).text\n",
    "soup=BeautifulSoup(page,'html.parser')\n",
    "data=soup.find('table',{'class':'W(100%) M(0)'})\n",
    "table=[]\n",
    "for rows in data.find_all('tr'):\n",
    "    cols=rows.find_all('td')\n",
    "    if len(cols)==7:\n",
    "        dat=[]\n",
    "        table.append(dat)\n",
    "        for i in range(len(cols)):\n",
    "            dat.append(cols[i].text.strip())\n",
    "col_name=[]\n",
    "for th in data.find_all('th'):\n",
    "    name=th.find_all('span')\n",
    "    for i in name:\n",
    "        col_name.append(i.text.strip())\n",
    "    #col.append(name[0].text.strip())\n",
    "col_name\n",
    "df=pd.DataFrame(table, columns=col_name)\n",
    "df=df.apply(pd.to_numeric ,errors='ignore')\n",
    "#df.info()\n",
    "df.head()\n"
   ]
  },
  {
   "cell_type": "code",
   "execution_count": null,
   "metadata": {},
   "outputs": [],
   "source": [
    "import plotly.graph_objects as go\n",
    "\n",
    "import pandas as pd\n",
    "\n",
    "# Load data\n",
    "df = pd.read_csv(\n",
    "    \"https://raw.githubusercontent.com/plotly/datasets/master/finance-charts-apple.csv\")\n",
    "df.columns = [col.replace(\"AAPL.\", \"\") for col in df.columns]\n",
    "\n",
    "# Create figure\n",
    "fig = go.Figure()\n",
    "\n",
    "fig.add_trace(\n",
    "    go.Scatter(x=list(df.Date), y=list(df.High)))\n",
    "\n",
    "# Set title\n",
    "fig.update_layout(\n",
    "    title_text=\"Time series with range slider and selectors\"\n",
    ")\n",
    "\n",
    "# Add range slider\n",
    "fig.update_layout(\n",
    "    xaxis=go.layout.XAxis(\n",
    "        rangeselector=dict(\n",
    "            buttons=list([\n",
    "                dict(count=1,\n",
    "                     label=\"1m\",\n",
    "                     step=\"month\",\n",
    "                     stepmode=\"backward\"),\n",
    "                dict(count=6,\n",
    "                     label=\"6m\",\n",
    "                     step=\"month\",\n",
    "                     stepmode=\"backward\"),\n",
    "                dict(count=1,\n",
    "                     label=\"YTD\",\n",
    "                     step=\"year\",\n",
    "                     stepmode=\"todate\"),\n",
    "                dict(count=1,\n",
    "                     label=\"1y\",\n",
    "                     step=\"year\",\n",
    "                     stepmode=\"backward\"),\n",
    "                dict(step=\"all\")\n",
    "            ])\n",
    "        ),\n",
    "        rangeslider=dict(\n",
    "            visible=True\n",
    "        ),\n",
    "        type=\"date\"\n",
    "    )\n",
    ")\n",
    "\n",
    "fig.show()"
   ]
  },
  {
   "cell_type": "code",
   "execution_count": 15,
   "metadata": {},
   "outputs": [
    {
     "name": "stdout",
     "output_type": "stream",
     "text": [
      "0 101\n",
      "24 101\n",
      "24 129\n",
      "40 129\n"
     ]
    }
   ],
   "source": [
    "from tkinter import *\n",
    "\n",
    "def show_values():\n",
    "    print (w1.get(), w2.get())\n",
    "    selection = \"Value = \" + str(var1.get()+var2.get())\n",
    "    label.config(text = selection)\n",
    "\n",
    "master = Tk()\n",
    "var1=DoubleVar()\n",
    "var2=DoubleVar()                                 \n",
    "w1 = Scale(master, from_=0, to=50,length=200, tickinterval=5,variable=var1)\n",
    "w1.set(0)\n",
    "w1.pack()\n",
    "w2 = Scale(master, from_=0, to=200, length=600,tickinterval=10, orient=HORIZONTAL,variable=var2)\n",
    "w2.set(0)\n",
    "w2.pack()\n",
    "B=Button(master, text='Show', command=show_values)\n",
    "B.pack()\n",
    "label = Label(master)\n",
    "label.pack()\n",
    "\n",
    "\n",
    "mainloop()"
   ]
  },
  {
   "cell_type": "code",
   "execution_count": 42,
   "metadata": {},
   "outputs": [],
   "source": [
    "from tkinter import *\n",
    "tk=Tk()\n",
    "tk.geometry(\"800x500\")\n",
    "tk.title('Registration')\n",
    "tk.configure(bg='powder blue')\n",
    "label=Label(text=\"Hello\", bg='powder blue', font=100\n",
    "           ).pack()\n",
    "\n",
    "\n",
    "mainloop()\n"
   ]
  },
  {
   "cell_type": "code",
   "execution_count": null,
   "metadata": {},
   "outputs": [],
   "source": []
  },
  {
   "cell_type": "code",
   "execution_count": null,
   "metadata": {},
   "outputs": [],
   "source": [
    "from datetime import*\n",
    "import pymongo\n",
    "myclient = pymongo.MongoClient(\"mongodb://localhost:27017/\")\n",
    "mydb = myclient[\"mydatabase\"]\n",
    "mycol = mydb[date.today().strftime(\"%d_%m_%Y\")]\n"
   ]
  },
  {
   "cell_type": "code",
   "execution_count": null,
   "metadata": {},
   "outputs": [],
   "source": [
    "if data in mycol.find():\n",
    "    print('collection data already exists')\n",
    "else:\n",
    "    insrt=mycol.insert_one(data)\n",
    "    print('successfully inserted')\n",
    "\n"
   ]
  },
  {
   "cell_type": "code",
   "execution_count": null,
   "metadata": {},
   "outputs": [],
   "source": [
    "for i in mycol.find():\n",
    "    print(i)"
   ]
  },
  {
   "cell_type": "code",
   "execution_count": null,
   "metadata": {},
   "outputs": [],
   "source": []
  },
  {
   "cell_type": "code",
   "execution_count": null,
   "metadata": {},
   "outputs": [],
   "source": []
  },
  {
   "cell_type": "code",
   "execution_count": null,
   "metadata": {},
   "outputs": [],
   "source": []
  },
  {
   "cell_type": "code",
   "execution_count": null,
   "metadata": {},
   "outputs": [],
   "source": []
  }
 ],
 "metadata": {
  "kernelspec": {
   "display_name": "Python 3",
   "language": "python",
   "name": "python3"
  },
  "language_info": {
   "codemirror_mode": {
    "name": "ipython",
    "version": 3
   },
   "file_extension": ".py",
   "mimetype": "text/x-python",
   "name": "python",
   "nbconvert_exporter": "python",
   "pygments_lexer": "ipython3",
   "version": "3.6.8"
  }
 },
 "nbformat": 4,
 "nbformat_minor": 2
}
